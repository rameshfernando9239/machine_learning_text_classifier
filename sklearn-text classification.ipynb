{
 "metadata": {
  "name": "",
  "signature": "sha256:b120c5bed47d95f008362ba2a2a459b1463e2594f34b1a08044be28d28fa31df"
 },
 "nbformat": 3,
 "nbformat_minor": 0,
 "worksheets": [
  {
   "cells": [
    {
     "cell_type": "code",
     "collapsed": false,
     "input": [
      "import numpy as np\n",
      "import scipy as sc\n",
      "import matplotlib.pyplot as plt\n",
      "from prettyprint import pp\n",
      "import os, re\n",
      "from sklearn.feature_extraction.text import CountVectorizer, TfidfTransformer\n",
      "from sklearn.naive_bayes import BernoulliNB, GaussianNB, MultinomialNB\n",
      "from sklearn.metrics import confusion_matrix, f1_score, accuracy_score, precision_score, recall_score, classification_report\n",
      "from sklearn.neighbors import KNeighborsClassifier\n",
      "from sklearn.svm import LinearSVC, NuSVC, SVC\n",
      "from sklearn.grid_search import GridSearchCV\n",
      "from datetime import datetime as dt\n",
      "from ipy_table import *\n",
      "%matplotlib inline"
     ],
     "language": "python",
     "metadata": {},
     "outputs": [],
     "prompt_number": 1
    },
    {
     "cell_type": "markdown",
     "metadata": {},
     "source": [
      "###Files directory"
     ]
    },
    {
     "cell_type": "code",
     "collapsed": false,
     "input": [
      "root_path = 'E:/University Central/Modern Information Retrieval/Project/Project Phase 2/20_newsgroup/'\n",
      "#top_view folders\n",
      "folders = [root_path + folder + '/' for folder in os.listdir(root_path)]\n",
      "\n",
      "\n",
      "#there are only 4 classes\n",
      "class_titles = os.listdir(root_path)\n",
      "\n",
      "\n",
      "#list of all the files belonging to each class\n",
      "files = {}\n",
      "for folder, title in zip(folders, class_titles):\n",
      "    files[title] = [folder + f for f in os.listdir(folder)]"
     ],
     "language": "python",
     "metadata": {},
     "outputs": [],
     "prompt_number": 2
    },
    {
     "cell_type": "markdown",
     "metadata": {},
     "source": [
      "###Split documents to test and train sets"
     ]
    },
    {
     "cell_type": "code",
     "collapsed": false,
     "input": [
      "train_test_ratio = 0.75\n",
      "\n",
      "def train_test_split(ratio, classes, files):\n",
      "    \"\"\"\n",
      "    this method will split the input list of files to train and test sets.\n",
      "    *Note: currently this method uses the simplest way an array can be split in two parts.\n",
      "    Parameters\n",
      "    ----------\n",
      "    ratio: float\n",
      "           ratio of total documents in each class assigned to the training set\n",
      "    classes: list\n",
      "             list of label classes\n",
      "    files: dictionary\n",
      "           a dictionary with list of files for each class\n",
      "    \n",
      "    Returns\n",
      "    -------\n",
      "    train_dic: dictionary\n",
      "                a dictionary with lists of documents in the training set for each class\n",
      "    test_dict: dictionary\n",
      "                a dictionary with lists of documents in the testing set for each class\n",
      "    \"\"\"\n",
      "    train_dict = {}\n",
      "    test_dict = {}\n",
      "    for cl in classes:\n",
      "        train_cnt = int(ratio * len(files[cl]))\n",
      "        train_dict[cl] = files[cl][:train_cnt]\n",
      "        test_dict[cl] = files[cl][train_cnt:]\n",
      "    return train_dict, test_dict"
     ],
     "language": "python",
     "metadata": {},
     "outputs": [],
     "prompt_number": 3
    },
    {
     "cell_type": "code",
     "collapsed": false,
     "input": [
      "train_path, test_path = train_test_split(train_test_ratio, class_titles, files)"
     ],
     "language": "python",
     "metadata": {},
     "outputs": [],
     "prompt_number": 4
    },
    {
     "cell_type": "markdown",
     "metadata": {},
     "source": [
      "###Cleanup text"
     ]
    },
    {
     "cell_type": "code",
     "collapsed": false,
     "input": [
      "pattern = re.compile(r'([a-zA-Z]+|[0-9]+(\\.[0-9]+)?)')\n",
      "\n",
      "def cleanupText(path):\n",
      "    \"\"\"\n",
      "    this method will read in a text file and try to cleanup its text.\n",
      "    \n",
      "    Parameters\n",
      "    ----------\n",
      "    path: str\n",
      "          path to the document file\n",
      "    Returns\n",
      "    -------\n",
      "    text_translated: str\n",
      "                     cleaned up version of the raw text in the input file\n",
      "    \"\"\"\n",
      "    from string import punctuation, digits\n",
      "    text_translated = ''\n",
      "    try:\n",
      "        f = open(path)\n",
      "        raw = f.read().lower()\n",
      "        text = pattern.sub(r' \\1 ', raw.replace('\\n', ' '))\n",
      "        text_translated = text.translate(None, punctuation + digits)\n",
      "        text_translated = ' '.join([word for word in text_translated.split(' ') if (word and len(word) > 1)])\n",
      "    finally:\n",
      "        f.close()\n",
      "    return text_translated\n"
     ],
     "language": "python",
     "metadata": {},
     "outputs": [],
     "prompt_number": 5
    },
    {
     "cell_type": "markdown",
     "metadata": {},
     "source": [
      "###Create arrays of documents and their corresponding labels"
     ]
    },
    {
     "cell_type": "code",
     "collapsed": false,
     "input": [
      "train_arr = []\n",
      "test_arr = []\n",
      "train_lbl = []\n",
      "test_lbl = []\n",
      "for cl in class_titles:\n",
      "    for path in train_path[cl]:\n",
      "        train_arr.append(cleanupText(path))\n",
      "        train_lbl.append(cl)\n",
      "    for path in test_path[cl]:\n",
      "        test_arr.append(cleanupText(path))\n",
      "        test_lbl.append(cl)\n",
      "        \n",
      "print len(train_arr)\n",
      "print len(test_arr)"
     ],
     "language": "python",
     "metadata": {},
     "outputs": [
      {
       "output_type": "stream",
       "stream": "stdout",
       "text": [
        "600\n",
        "200\n"
       ]
      }
     ],
     "prompt_number": 6
    },
    {
     "cell_type": "markdown",
     "metadata": {},
     "source": [
      "###Create text vectorizer"
     ]
    },
    {
     "cell_type": "code",
     "collapsed": false,
     "input": [
      "vectorizer = CountVectorizer()\n",
      "vectorizer.fit(train_arr)\n",
      "train_mat = vectorizer.transform(train_arr)\n",
      "print train_mat.shape\n",
      "test_mat = vectorizer.transform(test_arr)\n",
      "print test_mat.shape"
     ],
     "language": "python",
     "metadata": {},
     "outputs": [
      {
       "output_type": "stream",
       "stream": "stdout",
       "text": [
        "(600, 19420)\n",
        "(200, 19420)"
       ]
      },
      {
       "output_type": "stream",
       "stream": "stdout",
       "text": [
        "\n"
       ]
      }
     ],
     "prompt_number": 7
    },
    {
     "cell_type": "markdown",
     "metadata": {},
     "source": [
      "###Create Tfidf Transformer"
     ]
    },
    {
     "cell_type": "code",
     "collapsed": false,
     "input": [
      "tfidf = TfidfTransformer()\n",
      "tfidf.fit(train_mat)\n",
      "train_tfmat = tfidf.transform(train_mat)\n",
      "print train_tfmat.shape\n",
      "test_tfmat = tfidf.transform(test_mat)\n",
      "print test_tfmat.shape"
     ],
     "language": "python",
     "metadata": {},
     "outputs": [
      {
       "output_type": "stream",
       "stream": "stdout",
       "text": [
        "(600, 19420)\n",
        "(200, 19420)\n"
       ]
      }
     ],
     "prompt_number": 8
    },
    {
     "cell_type": "markdown",
     "metadata": {},
     "source": [
      "##Test Classifier"
     ]
    },
    {
     "cell_type": "code",
     "collapsed": false,
     "input": [
      "def testClassifier(x_train, y_train, x_test, y_test, clf):\n",
      "    \"\"\"\n",
      "    this method will first train the classifier on the training data\n",
      "    and will then test the trained classifier on test data.\n",
      "    Finally it will report some metrics on the classifier performance.\n",
      "    \n",
      "    Parameters\n",
      "    ----------\n",
      "    x_train: np.ndarray\n",
      "             train data matrix\n",
      "    y_train: list\n",
      "             train data label\n",
      "    x_test: np.ndarray\n",
      "            test data matrix\n",
      "    y_test: list\n",
      "            test data label\n",
      "    clf: sklearn classifier object implementing fit() and predict() methods\n",
      "    \n",
      "    Returns\n",
      "    -------\n",
      "    metrics: list\n",
      "             [training time, testing time, recall and precision for every class, macro-averaged F1 score]\n",
      "    \"\"\"\n",
      "    metrics = []\n",
      "    start = dt.now()\n",
      "    clf.fit(x_train, y_train)\n",
      "    end = dt.now()\n",
      "    print 'training time: ', (end - start)\n",
      "    \n",
      "    # add training time to metrics\n",
      "    metrics.append(end-start)\n",
      "    \n",
      "    start = dt.now()\n",
      "    yhat = clf.predict(x_test)\n",
      "    end = dt.now()\n",
      "    print 'testing time: ', (end - start)\n",
      "    \n",
      "    # add testing time to metrics\n",
      "    metrics.append(end-start)\n",
      "    \n",
      "    print 'classification report: '\n",
      "#     print classification_report(y_test, yhat)\n",
      "    pp(classification_report(y_test, yhat))\n",
      "    \n",
      "    print 'f1 score'\n",
      "    print f1_score(y_test, yhat, average='macro')\n",
      "    \n",
      "    print 'accuracy score'\n",
      "    print accuracy_score(y_test, yhat)\n",
      "    \n",
      "    precision = precision_score(y_test, yhat, average=None)\n",
      "    recall = recall_score(y_test, yhat, average=None)\n",
      "    \n",
      "    # add precision and recall values to metrics\n",
      "    for p, r in zip(precision, recall):\n",
      "        metrics.append(p)\n",
      "        metrics.append(r)\n",
      "    \n",
      "    \n",
      "    #add macro-averaged F1 score to metrics\n",
      "    metrics.append(f1_score(y_test, yhat, average='macro'))\n",
      "    \n",
      "    print 'confusion matrix:'\n",
      "    print confusion_matrix(y_test, yhat)\n",
      "    \n",
      "    # plotting the confusion matrix\n",
      "    plt.imshow(confusion_matrix(y_test, yhat), interpolation='nearest')\n",
      "    plt.show()\n",
      "    \n",
      "    return metrics"
     ],
     "language": "python",
     "metadata": {},
     "outputs": [],
     "prompt_number": 9
    },
    {
     "cell_type": "markdown",
     "metadata": {},
     "source": [
      "###Metrics list"
     ]
    },
    {
     "cell_type": "code",
     "collapsed": false,
     "input": [
      "metrics_dict = []\n",
      "#'name', 'metrics'"
     ],
     "language": "python",
     "metadata": {},
     "outputs": [],
     "prompt_number": 10
    },
    {
     "cell_type": "markdown",
     "metadata": {},
     "source": [
      "##First, classifiers with default settings will be tested"
     ]
    },
    {
     "cell_type": "markdown",
     "metadata": {},
     "source": [
      "###Naive Bayes classifiers"
     ]
    },
    {
     "cell_type": "markdown",
     "metadata": {},
     "source": [
      "####Bernoulli Naive Bayes classifier"
     ]
    },
    {
     "cell_type": "code",
     "collapsed": false,
     "input": [
      "bnb = BernoulliNB()\n",
      "bnb_me = testClassifier(train_tfmat, train_lbl, test_tfmat, test_lbl, bnb)\n",
      "metrics_dict.append({'name':'BernoulliNB', 'metrics':bnb_me})"
     ],
     "language": "python",
     "metadata": {},
     "outputs": [
      {
       "output_type": "stream",
       "stream": "stdout",
       "text": [
        "training time:  0:00:00.007000\n",
        "testing time:  0:00:00.004000\n",
        "classification report: \n",
        "\"             precision    recall  f1-score   support\n",
        "\n",
        "comp.os.ms-windows.misc       1.00      0.38      0.55        50\n",
        "rec.sport.baseball       1.00      1.00      1.00        50\n",
        "sci.electronics       0.60      0.98      0.74        50\n",
        "soc.religion.christian       0.98      0.96      0.97        50\n",
        "\n",
        "avg / total       0.89      0.83      0.82       200\n",
        "\"\n",
        "f1 score\n",
        "0.815711462451\n",
        "accuracy score\n",
        "0.83\n",
        "confusion matrix:\n",
        "[[19  0 31  0]\n",
        " [ 0 50  0  0]\n",
        " [ 0  0 49  1]\n",
        " [ 0  0  2 48]]\n"
       ]
      },
      {
       "metadata": {},
       "output_type": "display_data",
       "png": "[encoded data removed]",
       "text": [
        "<matplotlib.figure.Figure at 0x215bba8>"
       ]
      }
     ],
     "prompt_number": 11
    },
    {
     "cell_type": "markdown",
     "metadata": {},
     "source": [
      "####Gaussian Naive Bayes classifier"
     ]
    },
    {
     "cell_type": "code",
     "collapsed": false,
     "input": [
      "gnb = GaussianNB()\n",
      "gnb_me = testClassifier(train_tfmat.toarray(), train_lbl, test_tfmat.toarray(), test_lbl, gnb)\n",
      "metrics_dict.append({'name':'GaussianNB', 'metrics':gnb_me})"
     ],
     "language": "python",
     "metadata": {},
     "outputs": [
      {
       "output_type": "stream",
       "stream": "stdout",
       "text": [
        "training time:  0:00:00.404000\n",
        "testing time: "
       ]
      },
      {
       "output_type": "stream",
       "stream": "stdout",
       "text": [
        " 0:00:00.354000\n",
        "classification report: \n",
        "\"             precision    recall  f1-score   support\n",
        "\n",
        "comp.os.ms-windows.misc       0.83      0.86      0.84        50\n",
        "rec.sport.baseball       0.94      0.96      0.95        50\n",
        "sci.electronics       0.89      0.80      0.84        50\n",
        "soc.religion.christian       0.96      1.00      0.98        50\n",
        "\n",
        "avg / total       0.90      0.91      0.90       200\n",
        "\"\n",
        "f1 score\n",
        "0.904032431107\n",
        "accuracy score\n",
        "0.905\n",
        "confusion matrix:\n",
        "[[43  2  4  1]\n",
        " [ 1 48  1  0]\n",
        " [ 8  1 40  1]\n",
        " [ 0  0  0 50]]\n"
       ]
      },
      {
       "metadata": {},
       "output_type": "display_data",
       "png": "[encoded data removed]",
       "text": [
        "<matplotlib.figure.Figure at 0x215bcc0>"
       ]
      }
     ],
     "prompt_number": 12
    },
    {
     "cell_type": "markdown",
     "metadata": {},
     "source": [
      "####Multinomial Naive Bayes classifier"
     ]
    },
    {
     "cell_type": "code",
     "collapsed": false,
     "input": [
      "mnb = MultinomialNB()\n",
      "mnb_me = testClassifier(train_tfmat.toarray(), train_lbl, test_tfmat.toarray(), test_lbl, mnb)\n",
      "metrics_dict.append({'name':'MultinomialNB', 'metrics':mnb_me})"
     ],
     "language": "python",
     "metadata": {},
     "outputs": [
      {
       "output_type": "stream",
       "stream": "stdout",
       "text": [
        "training time:  0:00:00.178000\n",
        "testing time:  0:00:00.015000\n",
        "classification report: \n",
        "\"             precision    recall  f1-score   support\n",
        "\n",
        "comp.os.ms-windows.misc       0.98      0.98      0.98        50\n",
        "rec.sport.baseball       0.98      0.98      0.98        50\n",
        "sci.electronics       0.98      0.92      0.95        50\n",
        "soc.religion.christian       0.94      1.00      0.97        50\n",
        "\n",
        "avg / total       0.97      0.97      0.97       200\n",
        "\"\n",
        "f1 score\n",
        "0.969831848664\n",
        "accuracy score\n",
        "0.97\n",
        "confusion matrix:\n",
        "[[49  0  0  1]\n",
        " [ 0 49  1  0]\n",
        " [ 1  1 46  2]\n",
        " [ 0  0  0 50]]\n"
       ]
      },
      {
       "metadata": {},
       "output_type": "display_data",
       "png": "[encoded data removed]",
       "text": [
        "<matplotlib.figure.Figure at 0x215bb00>"
       ]
      }
     ],
     "prompt_number": 13
    },
    {
     "cell_type": "markdown",
     "metadata": {},
     "source": [
      "### K Nearest Neighbors classifier"
     ]
    },
    {
     "cell_type": "code",
     "collapsed": false,
     "input": [
      "# for nn in [5, 10, 15]:\n",
      "for nn in [5]:\n",
      "    print 'knn with ', nn, ' neighbors'\n",
      "    knn = KNeighborsClassifier(n_neighbors=nn)\n",
      "    knn_me = testClassifier(train_tfmat, train_lbl, test_tfmat, test_lbl, knn)\n",
      "    metrics_dict.append({'name':'5NN', 'metrics':knn_me})\n",
      "    print ' '"
     ],
     "language": "python",
     "metadata": {},
     "outputs": [
      {
       "output_type": "stream",
       "stream": "stdout",
       "text": [
        "knn with  5  neighbors\n",
        "training time:  0:00:00.001000\n",
        "testing time:  0:00:00.039000\n",
        "classification report: \n",
        "\"             precision    recall  f1-score   support\n",
        "\n",
        "comp.os.ms-windows.misc       0.74      0.90      0.81        50\n",
        "rec.sport.baseball       0.80      0.74      0.77        50\n",
        "sci.electronics       0.84      0.62      0.71        50\n",
        "soc.religion.christian       0.89      1.00      0.94        50\n",
        "\n",
        "avg / total       0.82      0.81      0.81       200\n",
        "\"\n",
        "f1 score\n",
        "0.80942101218\n",
        "accuracy score\n",
        "0.815\n",
        "confusion matrix:\n",
        "[[45  0  3  2]\n",
        " [10 37  3  0]\n",
        " [ 6  9 31  4]\n",
        " [ 0  0  0 50]]\n"
       ]
      },
      {
       "metadata": {},
       "output_type": "display_data",
       "png": "[encoded data removed]",
       "text": [
        "<matplotlib.figure.Figure at 0x2e98fd0>"
       ]
      },
      {
       "output_type": "stream",
       "stream": "stdout",
       "text": [
        " \n"
       ]
      }
     ],
     "prompt_number": 14
    },
    {
     "cell_type": "markdown",
     "metadata": {},
     "source": [
      "###SVM classifier"
     ]
    },
    {
     "cell_type": "markdown",
     "metadata": {},
     "source": [
      "####Linear SVM"
     ]
    },
    {
     "cell_type": "code",
     "collapsed": false,
     "input": [
      "lsvm = LinearSVC()\n",
      "lsvm_me = testClassifier(train_tfmat, train_lbl, test_tfmat, test_lbl, lsvm)\n",
      "metrics_dict.append({'name':'LinearSVM', 'metrics':lsvm_me})"
     ],
     "language": "python",
     "metadata": {},
     "outputs": [
      {
       "output_type": "stream",
       "stream": "stdout",
       "text": [
        "training time:  0:00:00.038000\n",
        "testing time:  0:00:00\n",
        "classification report: \n",
        "\"             precision    recall  f1-score   support\n",
        "\n",
        "comp.os.ms-windows.misc       1.00      1.00      1.00        50\n",
        "rec.sport.baseball       1.00      0.98      0.99        50\n",
        "sci.electronics       0.98      1.00      0.99        50\n",
        "soc.religion.christian       1.00      1.00      1.00        50\n",
        "\n",
        "avg / total       1.00      0.99      0.99       200\n",
        "\"\n",
        "f1 score\n",
        "0.99499949995\n",
        "accuracy score\n",
        "0.995\n",
        "confusion matrix:\n",
        "[[50  0  0  0]\n",
        " [ 0 49  1  0]\n",
        " [ 0  0 50  0]\n",
        " [ 0  0  0 50]]\n"
       ]
      },
      {
       "metadata": {},
       "output_type": "display_data",
       "png": "[encoded data removed]",
       "text": [
        "<matplotlib.figure.Figure at 0x13ecf390>"
       ]
      }
     ],
     "prompt_number": 15
    },
    {
     "cell_type": "markdown",
     "metadata": {},
     "source": [
      "####$\\nu$-SVM"
     ]
    },
    {
     "cell_type": "code",
     "collapsed": false,
     "input": [
      "nusvm = NuSVC()\n",
      "nusvm_me = testClassifier(train_tfmat, train_lbl, test_tfmat, test_lbl, nusvm)\n",
      "metrics_dict.append({'name':'nuSVM', 'metrics':nusvm_me})"
     ],
     "language": "python",
     "metadata": {},
     "outputs": [
      {
       "output_type": "stream",
       "stream": "stdout",
       "text": [
        "training time:  0:00:00.383000\n",
        "testing time: "
       ]
      },
      {
       "output_type": "stream",
       "stream": "stdout",
       "text": [
        " 0:00:00.079000\n",
        "classification report: \n",
        "\"             precision    recall  f1-score   support\n",
        "\n",
        "comp.os.ms-windows.misc       1.00      0.84      0.91        50\n",
        "rec.sport.baseball       0.92      0.98      0.95        50\n",
        "sci.electronics       0.85      0.92      0.88        50\n",
        "soc.religion.christian       0.98      1.00      0.99        50\n",
        "\n",
        "avg / total       0.94      0.94      0.93       200\n",
        "\"\n",
        "f1 score\n",
        "0.934803545864\n",
        "accuracy score\n",
        "0.935\n",
        "confusion matrix:\n",
        "[[42  1  7  0]\n",
        " [ 0 49  1  0]\n",
        " [ 0  3 46  1]\n",
        " [ 0  0  0 50]]\n"
       ]
      },
      {
       "metadata": {},
       "output_type": "display_data",
       "png": "[encoded data removed]",
       "text": [
        "<matplotlib.figure.Figure at 0x215bba8>"
       ]
      }
     ],
     "prompt_number": 16
    },
    {
     "cell_type": "markdown",
     "metadata": {},
     "source": [
      "####SVM with RBF kernel"
     ]
    },
    {
     "cell_type": "code",
     "collapsed": false,
     "input": [
      "rbfsvm = SVC()\n",
      "rbfsvm_me = testClassifier(train_tfmat, train_lbl, test_tfmat, test_lbl, rbfsvm)\n",
      "metrics_dict.append({'name':'SVM with RBF kernel', 'metrics':rbfsvm_me})"
     ],
     "language": "python",
     "metadata": {},
     "outputs": [
      {
       "output_type": "stream",
       "stream": "stdout",
       "text": [
        "training time:  0:00:00.743000\n",
        "testing time: "
       ]
      },
      {
       "output_type": "stream",
       "stream": "stdout",
       "text": [
        " 0:00:00.153000\n",
        "classification report: \n",
        "\"             precision    recall  f1-score   support\n",
        "\n",
        "comp.os.ms-windows.misc       1.00      0.52      0.68        50\n",
        "rec.sport.baseball       1.00      0.92      0.96        50\n",
        "sci.electronics       0.64      1.00      0.78        50\n",
        "soc.religion.christian       1.00      1.00      1.00        50\n",
        "\n",
        "avg / total       0.91      0.86      0.86       200\n",
        "\"\n",
        "f1 score\n",
        "0.855948464912\n",
        "accuracy score\n",
        "0.86\n",
        "confusion matrix:\n",
        "[[26  0 24  0]\n",
        " [ 0 46  4  0]\n",
        " [ 0  0 50  0]\n",
        " [ 0  0  0 50]]\n"
       ]
      },
      {
       "metadata": {},
       "output_type": "display_data",
       "png": "[encoded data removed]",
       "text": [
        "<matplotlib.figure.Figure at 0x215bba8>"
       ]
      }
     ],
     "prompt_number": 17
    },
    {
     "cell_type": "markdown",
     "metadata": {},
     "source": [
      "##Second, best classifier of each kind will be found using 5 fold cross validation with a search on parameter grid"
     ]
    },
    {
     "cell_type": "markdown",
     "metadata": {},
     "source": [
      "###Naive Bayes classifiers"
     ]
    },
    {
     "cell_type": "markdown",
     "metadata": {},
     "source": [
      "####Best Bernoulli Naive Bayes classifier\n",
      "\n",
      "####Parameters\n",
      "alpha : float, optional (default=1.0)\n",
      "\n",
      "    Additive (Laplace/Lidstone) smoothing parameter\n",
      "    (0 for no smoothing).\n",
      "\n",
      "binarize : float or None, optional\n",
      "\n",
      "    Threshold for binarizing (mapping to booleans) of sample features.\n",
      "    If None, input is presumed to already consist of binary vectors.\n",
      "\n",
      "fit_prior : boolean\n",
      "\n",
      "    Whether to learn class prior probabilities or not.\n",
      "    If false, a uniform prior will be used.\n",
      "\n",
      "class_prior : array-like, size=[n_classes,]\n",
      "\n",
      "    Prior probabilities of the classes. If specified the priors are not\n",
      "    adjusted according to the data.\n",
      "    \n",
      "__Note__: since classes are balanced, their priors are equal."
     ]
    },
    {
     "cell_type": "code",
     "collapsed": false,
     "input": [
      "bnb_params = {'alpha': [a*0.1 for a in range(0,11)]}\n",
      "bnb_clf = GridSearchCV(BernoulliNB(), bnb_params, cv=10)\n",
      "bnb_clf.fit(train_tfmat, train_lbl)\n",
      "print 'best parameters'\n",
      "print bnb_clf.best_params_\n",
      "best_bnb = BernoulliNB(alpha=bnb_clf.best_params_['alpha'])\n",
      "best_bnb_me = testClassifier(train_tfmat, train_lbl, test_tfmat, test_lbl, best_bnb)\n",
      "metrics_dict.append({'name':'Best BernoulliNB', 'metrics':best_bnb_me})"
     ],
     "language": "python",
     "metadata": {},
     "outputs": [
      {
       "output_type": "stream",
       "stream": "stdout",
       "text": [
        "best parameters\n",
        "{'alpha': 0.1}\n",
        "training time:  0:00:00.004000\n",
        "testing time:  0:00:00.003000\n",
        "classification report: \n",
        "\"             precision    recall  f1-score   support\n",
        "\n",
        "comp.os.ms-windows.misc       1.00      0.74      0.85        50\n",
        "rec.sport.baseball       1.00      1.00      1.00        50\n",
        "sci.electronics       0.79      1.00      0.88        50\n",
        "soc.religion.christian       1.00      1.00      1.00        50\n",
        "\n",
        "avg / total       0.95      0.94      0.93       200\n",
        "\"\n",
        "f1 score\n",
        "0.933882616214\n",
        "accuracy score\n",
        "0.935\n",
        "confusion matrix:\n",
        "[[37  0 13  0]\n",
        " [ 0 50  0  0]\n",
        " [ 0  0 50  0]\n",
        " [ 0  0  0 50]]\n"
       ]
      },
      {
       "metadata": {},
       "output_type": "display_data",
       "png": "[encoded data removed]",
       "text": [
        "<matplotlib.figure.Figure at 0x14721748>"
       ]
      }
     ],
     "prompt_number": 21
    },
    {
     "cell_type": "markdown",
     "metadata": {},
     "source": [
      "####Best Gaussian Naive Bayes classifier\n",
      "__Note__: this classifier doesn't have any paramters, so no cross validation and grid search on its parameters can be performed."
     ]
    },
    {
     "cell_type": "code",
     "collapsed": false,
     "input": [
      "best_gnb = GaussianNB()\n",
      "best_gnb_me = testClassifier(train_tfmat.toarray(), train_lbl, test_tfmat.toarray(), test_lbl, best_gnb)\n",
      "metrics_dict.append({'name':'Best GaussianNB', 'metrics':best_gnb_me})"
     ],
     "language": "python",
     "metadata": {},
     "outputs": [
      {
       "output_type": "stream",
       "stream": "stdout",
       "text": [
        "training time:  0:00:00.393000\n",
        "testing time: "
       ]
      },
      {
       "output_type": "stream",
       "stream": "stdout",
       "text": [
        " 0:00:00.271000\n",
        "classification report: \n",
        "\"             precision    recall  f1-score   support\n",
        "\n",
        "comp.os.ms-windows.misc       0.83      0.86      0.84        50\n",
        "rec.sport.baseball       0.94      0.96      0.95        50\n",
        "sci.electronics       0.89      0.80      0.84        50\n",
        "soc.religion.christian       0.96      1.00      0.98        50\n",
        "\n",
        "avg / total       0.90      0.91      0.90       200\n",
        "\"\n",
        "f1 score\n",
        "0.904032431107\n",
        "accuracy score\n",
        "0.905\n",
        "confusion matrix:\n",
        "[[43  2  4  1]\n",
        " [ 1 48  1  0]\n",
        " [ 8  1 40  1]\n",
        " [ 0  0  0 50]]\n"
       ]
      },
      {
       "metadata": {},
       "output_type": "display_data",
       "png": "[encoded data removed]",
       "text": [
        "<matplotlib.figure.Figure at 0x35e9630>"
       ]
      }
     ],
     "prompt_number": 22
    },
    {
     "cell_type": "markdown",
     "metadata": {},
     "source": [
      "####Best Multinomial Bayes classifier\n",
      "####Parameters\n",
      "\n",
      "alpha : float, optional (default=1.0)\n",
      "\n",
      "    Additive (Laplace/Lidstone) smoothing parameter\n",
      "    (0 for no smoothing).\n",
      "\n",
      "fit_prior : boolean\n",
      "\n",
      "    Whether to learn class prior probabilities or not.\n",
      "    If false, a uniform prior will be used.\n",
      "\n",
      "class_prior : array-like, size (n_classes,)\n",
      "\n",
      "    Prior probabilities of the classes. If specified the priors are not\n",
      "    adjusted according to the data."
     ]
    },
    {
     "cell_type": "code",
     "collapsed": false,
     "input": [
      "mbn_params = {'alpha': [a*0.1 for a in range(0,11)]}\n",
      "mbn_clf = GridSearchCV(MultinomialNB(), mbn_params, cv=10)\n",
      "mbn_clf.fit(train_tfmat, train_lbl)\n",
      "print 'best parameters'\n",
      "print mbn_clf.best_params_\n",
      "best_mbn = MultinomialNB(alpha=mbn_clf.best_params_['alpha'])\n",
      "best_mbn_me = testClassifier(train_tfmat, train_lbl, test_tfmat, test_lbl, best_mbn)\n",
      "metrics_dict.append({'name':'Best MultinomialNB', 'metrics':best_mbn_me})"
     ],
     "language": "python",
     "metadata": {},
     "outputs": [
      {
       "output_type": "stream",
       "stream": "stdout",
       "text": [
        "best parameters\n",
        "{'alpha': 0.2}\n",
        "training time:  0:00:00.003000\n",
        "testing time:  0:00:00.001000\n",
        "classification report: \n",
        "\"             precision    recall  f1-score   support\n",
        "\n",
        "comp.os.ms-windows.misc       0.98      0.98      0.98        50\n",
        "rec.sport.baseball       0.98      1.00      0.99        50\n",
        "sci.electronics       0.98      0.96      0.97        50\n",
        "soc.religion.christian       1.00      1.00      1.00        50\n",
        "\n",
        "avg / total       0.98      0.98      0.98       200\n",
        "\"\n",
        "f1 score\n",
        "0.984948994899\n",
        "accuracy score\n",
        "0.985\n",
        "confusion matrix:\n",
        "[[49  0  1  0]\n",
        " [ 0 50  0  0]\n",
        " [ 1  1 48  0]\n",
        " [ 0  0  0 50]]\n"
       ]
      },
      {
       "metadata": {},
       "output_type": "display_data",
       "png": "[encoded data removed]",
       "text": [
        "<matplotlib.figure.Figure at 0x2118a58>"
       ]
      }
     ],
     "prompt_number": 25
    },
    {
     "cell_type": "markdown",
     "metadata": {},
     "source": [
      "####Best KNN classifier\n",
      "####Parameters\n",
      "\n",
      "n_neighbors : int, optional (default = 5)\n",
      "\n",
      "    Number of neighbors to use by default for :meth:`k_neighbors` queries.\n",
      "\n",
      "weights : str or callable\n",
      "\n",
      "    weight function used in prediction.  Possible values:\n",
      "\n",
      "    - 'uniform' : uniform weights.  All points in each neighborhood\n",
      "      are weighted equally.\n",
      "    - 'distance' : weight points by the inverse of their distance.\n",
      "      in this case, closer neighbors of a query point will have a\n",
      "      greater influence than neighbors which are further away.\n",
      "    - [callable] : a user-defined function which accepts an\n",
      "      array of distances, and returns an array of the same shape\n",
      "      containing the weights.\n",
      "\n",
      "    Uniform weights are used by default.\n",
      "\n",
      "algorithm : {'auto', 'ball_tree', 'kd_tree', 'brute'}, optional\n",
      "\n",
      "    Algorithm used to compute the nearest neighbors:\n",
      "\n",
      "    - 'ball_tree' will use :class:`BallTree`\n",
      "    - 'kd_tree' will use :class:`KDTree`\n",
      "    - 'brute' will use a brute-force search.\n",
      "    - 'auto' will attempt to decide the most appropriate algorithm\n",
      "      based on the values passed to :meth:`fit` method.\n",
      "\n",
      "    Note: fitting on sparse input will override the setting of\n",
      "    this parameter, using brute force.\n",
      "\n",
      "leaf_size : int, optional (default = 30)\n",
      "\n",
      "    Leaf size passed to BallTree or KDTree.  This can affect the\n",
      "    speed of the construction and query, as well as the memory\n",
      "    required to store the tree.  The optimal value depends on the\n",
      "    nature of the problem.\n",
      "\n",
      "metric : string or DistanceMetric object (default='minkowski')\n",
      "\n",
      "    the distance metric to use for the tree.  The default metric is\n",
      "    minkowski, and with p=2 is equivalent to the standard Euclidean\n",
      "    metric. See the documentation of the DistanceMetric class for a\n",
      "    list of available metrics.\n",
      "\n",
      "p : integer, optional (default = 2)\n",
      "\n",
      "    Power parameter for the Minkowski metric. When p = 1, this is\n",
      "    equivalent to using manhattan_distance (l1), and euclidean_distance\n",
      "    (l2) for p = 2. For arbitrary p, minkowski_distance (l_p) is used."
     ]
    },
    {
     "cell_type": "code",
     "collapsed": false,
     "input": [
      "knn_params = {'n_neighbors': range(1,21), 'weights': ['uniform', 'distance'], 'algorithm': ['ball_tree', 'kd_tree'],\n",
      "              'leaf_size': [15, 30, 50, 100], 'p': [1,2]}\n",
      "knn_clf = GridSearchCV(KNeighborsClassifier(), knn_params, cv=10)\n",
      "knn_clf.fit(train_tfmat, train_lbl)\n",
      "print 'best parameters'\n",
      "print knn_clf.best_params_\n",
      "best_knn = KNeighborsClassifier(n_neighbors=knn_clf.best_params_['n_neighbors'], weights=knn_clf.best_params_['weights'],\n",
      "                                algorithm=knn_clf.best_params_['algorithm'], leaf_size=knn_clf.best_params_['leaf_size'])\n",
      "best_knn_me = testClassifier(train_tfmat, train_lbl, test_tfmat, test_lbl, best_knn)\n",
      "metrics_dict.append({'name':'Best KNN', 'metrics':best_knn_me})"
     ],
     "language": "python",
     "metadata": {},
     "outputs": [
      {
       "output_type": "stream",
       "stream": "stdout",
       "text": [
        "best parameters\n",
        "{'n_neighbors': 4, 'weights': 'distance', 'leaf_size': 15, 'algorithm': 'ball_tree', 'p': 1}\n",
        "training time:  0:00:00\n",
        "testing time:  0:00:00.031000\n",
        "classification report: \n",
        "\"             precision    recall  f1-score   support\n",
        "\n",
        "comp.os.ms-windows.misc       0.71      0.84      0.77        50\n",
        "rec.sport.baseball       0.80      0.70      0.74        50\n",
        "sci.electronics       0.80      0.66      0.73        50\n",
        "soc.religion.christian       0.89      1.00      0.94        50\n",
        "\n",
        "avg / total       0.80      0.80      0.80       200\n",
        "\"\n",
        "f1 score\n",
        "0.795998501147\n",
        "accuracy score\n",
        "0.8\n",
        "confusion matrix:\n",
        "[[42  2  4  2]\n",
        " [11 35  4  0]\n",
        " [ 6  7 33  4]\n",
        " [ 0  0  0 50]]\n"
       ]
      },
      {
       "metadata": {},
       "output_type": "display_data",
       "png": "[encoded data removed]",
       "text": [
        "<matplotlib.figure.Figure at 0x2118a20>"
       ]
      }
     ],
     "prompt_number": 28
    },
    {
     "cell_type": "markdown",
     "metadata": {},
     "source": [
      "####Best Linear SVM classifier\n",
      "####Parameters\n",
      "\n",
      "C : float, optional (default=1.0)\n",
      "\n",
      "    Penalty parameter C of the error term.\n",
      "\n",
      "loss : string, 'l1' or 'l2' (default='l2')\n",
      "\n",
      "    Specifies the loss function. 'l1' is the hinge loss (standard SVM)\n",
      "    while 'l2' is the squared hinge loss.\n",
      "\n",
      "penalty : string, 'l1' or 'l2' (default='l2')\n",
      "\n",
      "    Specifies the norm used in the penalization. The 'l2'\n",
      "    penalty is the standard used in SVC. The 'l1' leads to `coef_`\n",
      "    vectors that are sparse.\n",
      "\n",
      "dual : bool, (default=True)\n",
      "\n",
      "    Select the algorithm to either solve the dual or primal\n",
      "    optimization problem. Prefer dual=False when n_samples > n_features.\n",
      "\n",
      "tol : float, optional (default=1e-4)\n",
      "\n",
      "    Tolerance for stopping criteria\n",
      "\n",
      "multi_class: string, 'ovr' or 'crammer_singer' (default='ovr')\n",
      "\n",
      "    Determines the multi-class strategy if `y` contains more than\n",
      "    two classes.\n",
      "    `ovr` trains n_classes one-vs-rest classifiers, while `crammer_singer`\n",
      "    optimizes a joint objective over all classes.\n",
      "    While `crammer_singer` is interesting from an theoretical perspective\n",
      "    as it is consistent it is seldom used in practice and rarely leads to\n",
      "    better accuracy and is more expensive to compute.\n",
      "    If `crammer_singer` is chosen, the options loss, penalty and dual will\n",
      "    be ignored.\n",
      "\n",
      "fit_intercept : boolean, optional (default=True)\n",
      "\n",
      "    Whether to calculate the intercept for this model. If set\n",
      "    to false, no intercept will be used in calculations\n",
      "    (e.g. data is expected to be already centered).\n",
      "\n",
      "intercept_scaling : float, optional (default=1)\n",
      "\n",
      "    when self.fit_intercept is True, instance vector x becomes\n",
      "    [x, self.intercept_scaling],\n",
      "    i.e. a \"synthetic\" feature with constant value equals to\n",
      "    intercept_scaling is appended to the instance vector.\n",
      "    The intercept becomes intercept_scaling * synthetic feature weight\n",
      "    Note! the synthetic feature weight is subject to l1/l2 regularization\n",
      "    as all other features.\n",
      "    To lessen the effect of regularization on synthetic feature weight\n",
      "    (and therefore on the intercept) intercept_scaling has to be increased\n",
      "\n",
      "class_weight : {dict, 'auto'}, optional\n",
      "\n",
      "    Set the parameter C of class i to class_weight[i]*C for\n",
      "    SVC. If not given, all classes are supposed to have\n",
      "    weight one. The 'auto' mode uses the values of y to\n",
      "    automatically adjust weights inversely proportional to\n",
      "    class frequencies.\n",
      "\n",
      "verbose : int, default: 0\n",
      "\n",
      "    Enable verbose output. Note that this setting takes advantage of a\n",
      "    per-process runtime setting in liblinear that, if enabled, may not work\n",
      "    properly in a multithreaded context.\n",
      "\n",
      "random_state : int seed, RandomState instance, or None (default)\n",
      "\n",
      "    The seed of the pseudo random number generator to use when\n",
      "    shuffling the data."
     ]
    },
    {
     "cell_type": "code",
     "collapsed": false,
     "input": [
      "lsvm_params = {'C':[1,10,100,1000], 'loss':['l1', 'l2']}\n",
      "lsvm_clf = GridSearchCV(LinearSVC(), lsvm_params, cv=5)\n",
      "lsvm_clf.fit(train_tfmat, train_lbl)\n",
      "print 'best parameters'\n",
      "print lsvm_clf.best_params_\n",
      "best_lsvm = LinearSVC(C=lsvm_clf.best_params_['C'], loss=lsvm_clf.best_params_['loss'])\n",
      "best_lsvm_me = testClassifier(train_tfmat, train_lbl, test_tfmat, test_lbl, best_lsvm)\n",
      "metrics_dict.append({'name':'Best Linear SVM', 'metrics':best_lsvm_me})"
     ],
     "language": "python",
     "metadata": {},
     "outputs": [
      {
       "output_type": "stream",
       "stream": "stdout",
       "text": [
        "best parameters\n",
        "{'loss': 'l1', 'C': 10}\n",
        "training time: "
       ]
      },
      {
       "output_type": "stream",
       "stream": "stdout",
       "text": [
        " 0:00:00.096000\n",
        "testing time:  0:00:00\n",
        "classification report: \n",
        "\"             precision    recall  f1-score   support\n",
        "\n",
        "comp.os.ms-windows.misc       1.00      1.00      1.00        50\n",
        "rec.sport.baseball       1.00      0.98      0.99        50\n",
        "sci.electronics       0.98      1.00      0.99        50\n",
        "soc.religion.christian       1.00      1.00      1.00        50\n",
        "\n",
        "avg / total       1.00      0.99      0.99       200\n",
        "\"\n",
        "f1 score\n",
        "0.99499949995\n",
        "accuracy score\n",
        "0.995\n",
        "confusion matrix:\n",
        "[[50  0  0  0]\n",
        " [ 0 49  1  0]\n",
        " [ 0  0 50  0]\n",
        " [ 0  0  0 50]]\n"
       ]
      },
      {
       "metadata": {},
       "output_type": "display_data",
       "png": "[encoded data removed]",
       "text": [
        "<matplotlib.figure.Figure at 0x144ee550>"
       ]
      }
     ],
     "prompt_number": 29
    },
    {
     "cell_type": "markdown",
     "metadata": {},
     "source": [
      "###Creating a table summarizing metrics of the classifiers\n"
     ]
    },
    {
     "cell_type": "code",
     "collapsed": false,
     "input": [
      "metrics_table = []\n",
      "metrics_table.append(['', 'name', 'training time', 'testing time',\n",
      "                      'p_1', 'r_1',\n",
      "                      'p_2', 'r_2',\n",
      "                      'p_3', 'r_3',\n",
      "                      'p_4', 'r_4',\n",
      "                      'macro-averaged F1 score'\n",
      "                      ])\n",
      "i = 0\n",
      "for me in metrics_dict:\n",
      "    i += 1\n",
      "    metric = []\n",
      "    metric.append(i)\n",
      "    metric.append(me['name'])\n",
      "    for m in me['metrics']:\n",
      "        metric.append(m)\n",
      "    metrics_table.append(metric)\n",
      "make_table(metrics_table)\n",
      "\n",
      "# styling\n",
      "apply_theme('basic_both')\n",
      "set_column_style(12, align='center')"
     ],
     "language": "python",
     "metadata": {},
     "outputs": [
      {
       "html": [
        "<table border=\"1\" cellpadding=\"3\" cellspacing=\"0\"  style=\"border:1px solid black;border-collapse:collapse;\"><tr><td  style=\"background-color:White;border-left: 1px solid transparent;border-top: 1px solid transparent;\"><b></b></td><td  style=\"background-color:LightGray;\"><b>name</b></td><td  style=\"background-color:LightGray;\"><b>training&nbsptime</b></td><td  style=\"background-color:LightGray;\"><b>testing&nbsptime</b></td><td  style=\"background-color:LightGray;\"><b>p_1</b></td><td  style=\"background-color:LightGray;\"><b>r_1</b></td><td  style=\"background-color:LightGray;\"><b>p_2</b></td><td  style=\"background-color:LightGray;\"><b>r_2</b></td><td  style=\"background-color:LightGray;\"><b>p_3</b></td><td  style=\"background-color:LightGray;\"><b>r_3</b></td><td  style=\"background-color:LightGray;\"><b>p_4</b></td><td  style=\"background-color:LightGray;\"><b>r_4</b></td><td  style=\"background-color:LightGray;text-align:center;\"><b>macro-averaged&nbspF1&nbspscore</b></td></tr><tr><td  style=\"background-color:LightGray;\"><b>1</b></td><td  style=\"background-color:Ivory;\">BernoulliNB</td><td  style=\"background-color:Ivory;\">0:00:00.007000</td><td  style=\"background-color:Ivory;\">0:00:00.004000</td><td  style=\"background-color:Ivory;\">1.0000</td><td  style=\"background-color:Ivory;\">0.3800</td><td  style=\"background-color:Ivory;\">1.0000</td><td  style=\"background-color:Ivory;\">1.0000</td><td  style=\"background-color:Ivory;\">0.5976</td><td  style=\"background-color:Ivory;\">0.9800</td><td  style=\"background-color:Ivory;\">0.9796</td><td  style=\"background-color:Ivory;\">0.9600</td><td  style=\"background-color:Ivory;text-align:center;\">0.8157</td></tr><tr><td  style=\"background-color:LightGray;\"><b>2</b></td><td  style=\"background-color:AliceBlue;\">GaussianNB</td><td  style=\"background-color:AliceBlue;\">0:00:00.404000</td><td  style=\"background-color:AliceBlue;\">0:00:00.354000</td><td  style=\"background-color:AliceBlue;\">0.8269</td><td  style=\"background-color:AliceBlue;\">0.8600</td><td  style=\"background-color:AliceBlue;\">0.9412</td><td  style=\"background-color:AliceBlue;\">0.9600</td><td  style=\"background-color:AliceBlue;\">0.8889</td><td  style=\"background-color:AliceBlue;\">0.8000</td><td  style=\"background-color:AliceBlue;\">0.9615</td><td  style=\"background-color:AliceBlue;\">1.0000</td><td  style=\"background-color:AliceBlue;text-align:center;\">0.9040</td></tr><tr><td  style=\"background-color:LightGray;\"><b>3</b></td><td  style=\"background-color:Ivory;\">MultinomialNB</td><td  style=\"background-color:Ivory;\">0:00:00.178000</td><td  style=\"background-color:Ivory;\">0:00:00.015000</td><td  style=\"background-color:Ivory;\">0.9800</td><td  style=\"background-color:Ivory;\">0.9800</td><td  style=\"background-color:Ivory;\">0.9800</td><td  style=\"background-color:Ivory;\">0.9800</td><td  style=\"background-color:Ivory;\">0.9787</td><td  style=\"background-color:Ivory;\">0.9200</td><td  style=\"background-color:Ivory;\">0.9434</td><td  style=\"background-color:Ivory;\">1.0000</td><td  style=\"background-color:Ivory;text-align:center;\">0.9698</td></tr><tr><td  style=\"background-color:LightGray;\"><b>4</b></td><td  style=\"background-color:AliceBlue;\">5NN</td><td  style=\"background-color:AliceBlue;\">0:00:00.001000</td><td  style=\"background-color:AliceBlue;\">0:00:00.039000</td><td  style=\"background-color:AliceBlue;\">0.7377</td><td  style=\"background-color:AliceBlue;\">0.9000</td><td  style=\"background-color:AliceBlue;\">0.8043</td><td  style=\"background-color:AliceBlue;\">0.7400</td><td  style=\"background-color:AliceBlue;\">0.8378</td><td  style=\"background-color:AliceBlue;\">0.6200</td><td  style=\"background-color:AliceBlue;\">0.8929</td><td  style=\"background-color:AliceBlue;\">1.0000</td><td  style=\"background-color:AliceBlue;text-align:center;\">0.8094</td></tr><tr><td  style=\"background-color:LightGray;\"><b>5</b></td><td  style=\"background-color:Ivory;\">LinearSVM</td><td  style=\"background-color:Ivory;\">0:00:00.038000</td><td  style=\"background-color:Ivory;\">0:00:00</td><td  style=\"background-color:Ivory;\">1.0000</td><td  style=\"background-color:Ivory;\">1.0000</td><td  style=\"background-color:Ivory;\">1.0000</td><td  style=\"background-color:Ivory;\">0.9800</td><td  style=\"background-color:Ivory;\">0.9804</td><td  style=\"background-color:Ivory;\">1.0000</td><td  style=\"background-color:Ivory;\">1.0000</td><td  style=\"background-color:Ivory;\">1.0000</td><td  style=\"background-color:Ivory;text-align:center;\">0.9950</td></tr><tr><td  style=\"background-color:LightGray;\"><b>6</b></td><td  style=\"background-color:AliceBlue;\">nuSVM</td><td  style=\"background-color:AliceBlue;\">0:00:00.383000</td><td  style=\"background-color:AliceBlue;\">0:00:00.079000</td><td  style=\"background-color:AliceBlue;\">1.0000</td><td  style=\"background-color:AliceBlue;\">0.8400</td><td  style=\"background-color:AliceBlue;\">0.9245</td><td  style=\"background-color:AliceBlue;\">0.9800</td><td  style=\"background-color:AliceBlue;\">0.8519</td><td  style=\"background-color:AliceBlue;\">0.9200</td><td  style=\"background-color:AliceBlue;\">0.9804</td><td  style=\"background-color:AliceBlue;\">1.0000</td><td  style=\"background-color:AliceBlue;text-align:center;\">0.9348</td></tr><tr><td  style=\"background-color:LightGray;\"><b>7</b></td><td  style=\"background-color:Ivory;\">SVM&nbspwith&nbspRBF&nbspkernel</td><td  style=\"background-color:Ivory;\">0:00:00.743000</td><td  style=\"background-color:Ivory;\">0:00:00.153000</td><td  style=\"background-color:Ivory;\">1.0000</td><td  style=\"background-color:Ivory;\">0.5200</td><td  style=\"background-color:Ivory;\">1.0000</td><td  style=\"background-color:Ivory;\">0.9200</td><td  style=\"background-color:Ivory;\">0.6410</td><td  style=\"background-color:Ivory;\">1.0000</td><td  style=\"background-color:Ivory;\">1.0000</td><td  style=\"background-color:Ivory;\">1.0000</td><td  style=\"background-color:Ivory;text-align:center;\">0.8559</td></tr><tr><td  style=\"background-color:LightGray;\"><b>8</b></td><td  style=\"background-color:AliceBlue;\">Best&nbspBernoulliNB</td><td  style=\"background-color:AliceBlue;\">0:00:00.004000</td><td  style=\"background-color:AliceBlue;\">0:00:00.003000</td><td  style=\"background-color:AliceBlue;\">1.0000</td><td  style=\"background-color:AliceBlue;\">0.7400</td><td  style=\"background-color:AliceBlue;\">1.0000</td><td  style=\"background-color:AliceBlue;\">1.0000</td><td  style=\"background-color:AliceBlue;\">0.7937</td><td  style=\"background-color:AliceBlue;\">1.0000</td><td  style=\"background-color:AliceBlue;\">1.0000</td><td  style=\"background-color:AliceBlue;\">1.0000</td><td  style=\"background-color:AliceBlue;text-align:center;\">0.9339</td></tr><tr><td  style=\"background-color:LightGray;\"><b>9</b></td><td  style=\"background-color:Ivory;\">Best&nbspGaussianNB</td><td  style=\"background-color:Ivory;\">0:00:00.393000</td><td  style=\"background-color:Ivory;\">0:00:00.271000</td><td  style=\"background-color:Ivory;\">0.8269</td><td  style=\"background-color:Ivory;\">0.8600</td><td  style=\"background-color:Ivory;\">0.9412</td><td  style=\"background-color:Ivory;\">0.9600</td><td  style=\"background-color:Ivory;\">0.8889</td><td  style=\"background-color:Ivory;\">0.8000</td><td  style=\"background-color:Ivory;\">0.9615</td><td  style=\"background-color:Ivory;\">1.0000</td><td  style=\"background-color:Ivory;text-align:center;\">0.9040</td></tr><tr><td  style=\"background-color:LightGray;\"><b>10</b></td><td  style=\"background-color:AliceBlue;\">Best&nbspMultinomialNB</td><td  style=\"background-color:AliceBlue;\">0:00:00.003000</td><td  style=\"background-color:AliceBlue;\">0:00:00.001000</td><td  style=\"background-color:AliceBlue;\">0.9800</td><td  style=\"background-color:AliceBlue;\">0.9800</td><td  style=\"background-color:AliceBlue;\">0.9804</td><td  style=\"background-color:AliceBlue;\">1.0000</td><td  style=\"background-color:AliceBlue;\">0.9796</td><td  style=\"background-color:AliceBlue;\">0.9600</td><td  style=\"background-color:AliceBlue;\">1.0000</td><td  style=\"background-color:AliceBlue;\">1.0000</td><td  style=\"background-color:AliceBlue;text-align:center;\">0.9849</td></tr><tr><td  style=\"background-color:LightGray;\"><b>11</b></td><td  style=\"background-color:Ivory;\">Best&nbspKNN</td><td  style=\"background-color:Ivory;\">0:00:00</td><td  style=\"background-color:Ivory;\">0:00:00.031000</td><td  style=\"background-color:Ivory;\">0.7119</td><td  style=\"background-color:Ivory;\">0.8400</td><td  style=\"background-color:Ivory;\">0.7955</td><td  style=\"background-color:Ivory;\">0.7000</td><td  style=\"background-color:Ivory;\">0.8049</td><td  style=\"background-color:Ivory;\">0.6600</td><td  style=\"background-color:Ivory;\">0.8929</td><td  style=\"background-color:Ivory;\">1.0000</td><td  style=\"background-color:Ivory;text-align:center;\">0.7960</td></tr><tr><td  style=\"background-color:LightGray;\"><b>12</b></td><td  style=\"background-color:AliceBlue;\">Best&nbspLinear&nbspSVM</td><td  style=\"background-color:AliceBlue;\">0:00:00.096000</td><td  style=\"background-color:AliceBlue;\">0:00:00</td><td  style=\"background-color:AliceBlue;\">1.0000</td><td  style=\"background-color:AliceBlue;\">1.0000</td><td  style=\"background-color:AliceBlue;\">1.0000</td><td  style=\"background-color:AliceBlue;\">0.9800</td><td  style=\"background-color:AliceBlue;\">0.9804</td><td  style=\"background-color:AliceBlue;\">1.0000</td><td  style=\"background-color:AliceBlue;\">1.0000</td><td  style=\"background-color:AliceBlue;\">1.0000</td><td  style=\"background-color:AliceBlue;text-align:center;\">0.9950</td></tr></table>"
       ],
       "metadata": {},
       "output_type": "pyout",
       "prompt_number": 31,
       "text": [
        "<ipy_table.IpyTable at 0x14513a20>"
       ]
      }
     ],
     "prompt_number": 31
    }
   ],
   "metadata": {}
  }
 ]
}